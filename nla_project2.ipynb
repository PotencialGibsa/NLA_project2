{
 "cells": [
  {
   "cell_type": "markdown",
   "metadata": {},
   "source": [
    "# SVM на основе тензорного CP разложения"
   ]
  },
  {
   "cell_type": "code",
   "execution_count": 53,
   "metadata": {},
   "outputs": [],
   "source": [
    "import numpy as np\n",
    "import time\n",
    "import tensorly as tl\n",
    "import functools\n",
    "from scipy.optimize import minimize\n",
    "import matplotlib.pyplot as plt\n",
    "from sklearn.metrics import accuracy_score\n",
    "from sklearn.model_selection import train_test_split\n"
   ]
  },
  {
   "cell_type": "code",
   "execution_count": 77,
   "metadata": {},
   "outputs": [],
   "source": [
    "class CP_LinearSVM:\n",
    "    def __init__(self, CP_rank):\n",
    "        self.cp_rank = CP_rank\n",
    "\n",
    "               \n",
    "    def createFactors(self, tensor):\n",
    "        n_dim = tensor.ndim\n",
    "        dictionary = {}\n",
    "        \n",
    "        for i in range(1, n_dim):\n",
    "            array = np.random.randn(tensor.shape[i], self.cp_rank)\n",
    "            dictionary[i] = array\n",
    "            \n",
    "        return dictionary\n",
    "    \n",
    "    \n",
    "    def tensorUnfold(self, tensor, mode):\n",
    "        n_dim = tensor.ndim\n",
    "        indices = np.arange(n_dim).tolist()\n",
    "        element = indices.pop(mode)\n",
    "        sample_index = indices.pop(0)\n",
    "        new_indices = ([sample_index] + [element] + indices)    \n",
    "        \n",
    "        samples = tensor.shape[0]\n",
    "        return np.transpose(tensor, new_indices).reshape(samples, tensor.shape[mode], -1)\n",
    "        \n",
    " \n",
    "    def getsvmFunctions(self, tensor):\n",
    "        n_dim = tensor.ndim\n",
    "        \n",
    "        optimize_functions = []\n",
    "        \n",
    "        for i in range(1, n_dim):\n",
    "            def optimizer(opt_mat, dictionary, CP_rank, C, X, Y, i=i):\n",
    "                samples = X.shape[0]\n",
    "     \n",
    "                vec_matrix = np.reshape(opt_mat, (CP_rank*X.shape[i], 1))\n",
    "                matricize_X = self.tensorUnfold(tensor=X, mode=i)\n",
    "                \n",
    "                temp_dict = dict(dictionary)\n",
    "                del temp_dict[i]\n",
    "    \n",
    "                new_matrices = list(temp_dict.values())\n",
    "                new_matrices = new_matrices[::-1]\n",
    "    \n",
    "                khatri_product = tl.tenalg.khatri_rao(new_matrices)\n",
    "                X_khatri = tl.tenalg.mode_dot(matricize_X, khatri_product.T, 2)\n",
    "                vec_X_khatri = np.reshape(X_khatri, (samples, CP_rank*X.shape[i]))\n",
    "                Y_hat = vec_X_khatri @ vec_matrix\n",
    "    \n",
    "                error = (1/samples)*np.sum(np.maximum(0, (1-Y.squeeze()*Y_hat.squeeze()))) + 0.5*C*np.linalg.norm(vec_matrix)**2\n",
    "    \n",
    "                return error\n",
    "        \n",
    "            optimize_functions.append(optimizer)\n",
    "            \n",
    "        return optimize_functions\n",
    "        \n",
    "\n",
    "    def fit(self, tensor, labels, C=1, max_iterations=200, sensitivity=1e-6, print_iterations=True):\n",
    "        iterations = 0\n",
    "        error = 1\n",
    "        current_error = 0\n",
    "        n_dim = tensor.ndim        \n",
    "        \n",
    "        init_dict = self.createFactors(tensor=tensor)\n",
    "        optimize_functions = self.getsvmFunctions(tensor=tensor)\n",
    "        \n",
    "        while (error > sensitivity) and (iterations < max_iterations):\n",
    "            prev_error = current_error\n",
    "            \n",
    "            for i in range(1, n_dim):\n",
    "                initial_guess = init_dict[i]\n",
    "                solve = functools.partial(optimize_functions[i-1], dictionary=init_dict, \n",
    "                                          CP_rank=self.cp_rank, C=C, X=tensor, Y=labels)\n",
    "                solver = minimize(solve, initial_guess, method='SLSQP', tol=0.0001)\n",
    "                initial_guess = np.reshape(solver.x, (initial_guess.shape))\n",
    "                init_dict[i] = initial_guess\n",
    "                \n",
    "            current_error = solver.fun\n",
    "            error = abs(prev_error - current_error)\n",
    "            iterations += 1\n",
    "            \n",
    "            if print_iterations:\n",
    "                print('Current Iteration: ' + str(iterations))\n",
    "                print('Current Difference in Error Value: '+ str(error) + str('\\n'))\n",
    "                \n",
    "        return init_dict    \n",
    "        \n",
    "    \n",
    "    def reconstructTensor(self, solved_dict, tensor_n_dim):\n",
    "        if tensor_n_dim == 2:\n",
    "            A = solved_dict[1]\n",
    "            B = solved_dict[2]\n",
    "            \n",
    "            recon_beta = np.zeros((A.shape[0], B.shape[0]))\n",
    "            \n",
    "            for i in range(tensor_n_dim):\n",
    "                solved_prod = np.prod(np.ix_(A[:, i], B[:, i]))\n",
    "                recon_beta += solved_prod\n",
    "                \n",
    "            return recon_beta\n",
    "                \n",
    "        elif tensor_n_dim == 3:\n",
    "            A = solved_dict[1]\n",
    "            B = solved_dict[2]\n",
    "            C = solved_dict[3]\n",
    "            \n",
    "            recon_beta = np.zeros((A.shape[0], B.shape[0], C.shape[0]))\n",
    "            \n",
    "            for i in range(tensor_n_dim):\n",
    "                solved_prod = np.prod(np.ix_(A[:, i], B[:, i], C[:, i]))\n",
    "                recon_beta += solved_prod\n",
    "                \n",
    "            return recon_beta       "
   ]
  },
  {
   "cell_type": "code",
   "execution_count": 6,
   "metadata": {},
   "outputs": [],
   "source": [
    "# Обычный SVM\n",
    "\n",
    "def svmSolver(beta, C, vec_X, Y):\n",
    "    samples = vec_X.shape[0]\n",
    "    Y_hat = vec_X @ beta \n",
    "    error = (1/samples)*np.sum(np.maximum(0, (1-Y.squeeze()*Y_hat.squeeze()))) + 0.5*C*np.linalg.norm(beta)**2\n",
    "    \n",
    "    return error\n",
    "    \n",
    "    \n",
    "def svmfit(vec_X, Y, C=1):\n",
    "    init_beta = np.random.randn(vec_X.shape[1], 1)\n",
    "    partial_solver = functools.partial(svmSolver, C=C, vec_X=vec_X, Y=Y)\n",
    "    solved = minimize(partial_solver, init_beta, method='SLSQP')\n",
    "    opt_weights = solved.x\n",
    "    \n",
    "    return opt_weights "
   ]
  },
  {
   "cell_type": "code",
   "execution_count": 7,
   "metadata": {},
   "outputs": [],
   "source": [
    "def evaluateMetrics(recon_tensor, true_tensor):\n",
    "    recon_tensor = recon_tensor / np.linalg.norm(recon_tensor, 'fro')\n",
    "    \n",
    "    mse_val = np.linalg.norm(recon_tensor-true_tensor)**2\n",
    "    \n",
    "    vec_recon = np.reshape(recon_tensor, (-1, 1))\n",
    "    vec_true = np.reshape(true_tensor, (-1, 1))\n",
    "        \n",
    "    recon_norm = np.linalg.norm(vec_recon)\n",
    "    true_norm = np.linalg.norm(vec_true)\n",
    "    \n",
    "    cos_dis = (vec_true.T @ vec_recon) / (true_norm*recon_norm)\n",
    "        \n",
    "    num = np.linalg.norm((true_tensor-recon_tensor), 'fro')\n",
    "    den = np.linalg.norm(true_tensor, 'fro')\n",
    "        \n",
    "    recon_err = num / den\n",
    "    \n",
    "    return mse_val, cos_dis, recon_err"
   ]
  },
  {
   "cell_type": "markdown",
   "metadata": {},
   "source": [
    "## На сгенерированных данных"
   ]
  },
  {
   "cell_type": "code",
   "execution_count": 10,
   "metadata": {},
   "outputs": [],
   "source": [
    "def generate_data(sample_size, noise_variance):\n",
    "    A = np.array([[1]*15, [0, 0, 0, 0, 0, 0, 1, 1, 1, 0, 0, 0, 0, 0, 0]]).T\n",
    "    B = np.array([[0, 0, 0, 0, 0, 0, 1, 1, 1, 0, 0, 0, 0, 0, 0], [1]*15]).T\n",
    "    x_shape = A.shape[0]\n",
    "    y_shape = B.shape[0]\n",
    "    \n",
    "    X_train = np.random.randn(sample_size, x_shape, y_shape) \n",
    "    X_train_vec = np.reshape(X_train, (sample_size, x_shape*y_shape))\n",
    "    \n",
    "    cross_beta = A @ B.T\n",
    "    vec_cross_beta = np.reshape(cross_beta, (x_shape*y_shape, 1))\n",
    "    cross_norm = np.linalg.norm(cross_beta, 'fro')\n",
    "    cross_beta = cross_beta / cross_norm\n",
    "    Y_soft = np.zeros((sample_size, 1))\n",
    "    \n",
    "    for i in range(sample_size):\n",
    "        epsilon = noise_variance * np.random.randn(1, 1)\n",
    "        x_i = X_train_vec[i, :]\n",
    "        y_i = (x_i @ vec_cross_beta) + epsilon\n",
    "        Y_soft[i, :] = y_i\n",
    "        \n",
    "    Y_hard = np.sign(Y_soft)\n",
    "    \n",
    "    return cross_beta, X_train, Y_hard, Y_soft "
   ]
  },
  {
   "cell_type": "code",
   "execution_count": 23,
   "metadata": {},
   "outputs": [
    {
     "name": "stderr",
     "output_type": "stream",
     "text": [
      "d:\\Python\\lib\\site-packages\\numpy\\core\\fromnumeric.py:86: VisibleDeprecationWarning: Creating an ndarray from ragged nested sequences (which is a list-or-tuple of lists-or-tuples-or ndarrays with different lengths or shapes) is deprecated. If you meant to do this, you must specify 'dtype=object' when creating the ndarray.\n",
      "  return ufunc.reduce(obj, axis, dtype, out, **passkwargs)\n"
     ]
    },
    {
     "name": "stdout",
     "output_type": "stream",
     "text": [
      "time consumed CP-SVM 4.105848789215088 s\n",
      "CP svm params =  60\n",
      "CP-SVM acc 0.8766666666666667\n",
      "time infer CP-SVM 0.003003358840942383 s\n",
      "time consumed SVM 4.182396650314331 s\n",
      "SVM acc 0.9266666666666666\n",
      "time infer SVM 0.0009992122650146484 s\n",
      "Traditional svm params =  (225,)\n"
     ]
    }
   ],
   "source": [
    "sample_size = 1500\n",
    "variance = 1 #1.5\n",
    "CP_rank = 2\n",
    "\n",
    "true_pred, X, Y_hard, Y_soft = generate_data(sample_size, variance)\n",
    "\n",
    "CP_SVM = CP_LinearSVM(CP_rank=CP_rank) \n",
    "start = time.time()\n",
    "svm_dict = CP_SVM.fit(X, Y_hard, print_iterations=False) \n",
    "cp_svm_reconstructed = CP_SVM.reconstructTensor(solved_dict=svm_dict, tensor_n_dim=2) \n",
    "print(f\"time consumed CP-SVM {time.time() - start} s\")\n",
    "\n",
    "params = 0\n",
    "for i in svm_dict:\n",
    "    params += svm_dict[i].size\n",
    "print('CP svm params = ', params)\n",
    "\n",
    "# print(np.dot(cp_svm_reconstructed.reshape((1,15,15)), X).shape)\n",
    "# print(np.inner(cp_svm_reconstructed, X).shape)\n",
    "# y_pred = []\n",
    "# for i in\n",
    "start = time.time()\n",
    "y_pred = np.inner(cp_svm_reconstructed.reshape(-1), np.reshape(X, (sample_size, X.shape[1]*X.shape[2])))\n",
    "y_pred_sign = np.sign(y_pred)\n",
    "\n",
    "print('CP-SVM acc', accuracy_score(Y_hard.reshape(-1), y_pred_sign))\n",
    "print(f\"time infer CP-SVM {time.time() - start} s\")\n",
    "\n",
    "\n",
    "\n",
    "# training traditional SVM model\n",
    "# vec_SVM = traditionalML(algorithm='Linear SVM') # instantiating class\n",
    "vec_X = np.reshape(X, (sample_size, -1)) # vectorizing data\n",
    "start = time.time()\n",
    "vec_svm_params = svmfit(vec_X, Y_hard)\n",
    "print(f\"time consumed SVM {time.time() - start} s\")\n",
    "vec_svm_reconstructed = np.reshape(vec_svm_params, (cp_svm_reconstructed.shape))\n",
    "\n",
    "start = time.time()\n",
    "y_pred2 = np.sign(np.inner(vec_svm_params, np.reshape(X, (sample_size, X.shape[1]*X.shape[2]))))\n",
    "print('SVM acc', accuracy_score(Y_hard.reshape(-1), y_pred2))\n",
    "print(f\"time infer SVM {time.time() - start} s\")\n",
    "\n",
    "\n",
    "\n",
    "print('Traditional svm params = ', vec_svm_params.shape)"
   ]
  },
  {
   "cell_type": "code",
   "execution_count": 17,
   "metadata": {},
   "outputs": [
    {
     "name": "stdout",
     "output_type": "stream",
     "text": [
      "CP MSE: 0.15359745753730597\n",
      "Traditional MSE: 0.18303336006493165 \n",
      "\n",
      "CP Cosine Distance: [[0.92320127]]\n",
      "Traditional Cosine Distance: [[0.90848332]] \n",
      "\n",
      "CP Reconstruction Error: 0.39191511521923467\n",
      "Traditional Reconstruction Error: 0.4278239825733612 \n",
      "\n"
     ]
    },
    {
     "data": {
      "image/png": "[encoded data removed]",
      "text/plain": [
       "<Figure size 432x288 with 1 Axes>"
      ]
     },
     "metadata": {
      "needs_background": "light"
     },
     "output_type": "display_data"
    },
    {
     "data": {
      "image/png": "[encoded data removed]",
      "text/plain": [
       "<Figure size 432x288 with 1 Axes>"
      ]
     },
     "metadata": {
      "needs_background": "light"
     },
     "output_type": "display_data"
    },
    {
     "data": {
      "image/png": "[encoded data removed]",
      "text/plain": [
       "<Figure size 432x288 with 1 Axes>"
      ]
     },
     "metadata": {
      "needs_background": "light"
     },
     "output_type": "display_data"
    }
   ],
   "source": [
    "cp_mse_val, cp_cos_dis, cp_recon_err = evaluateMetrics(cp_svm_reconstructed, true_pred) \n",
    "vec_mse_val, vec_cos_dis, vec_recon_err = evaluateMetrics(vec_svm_reconstructed, true_pred)\n",
    "\n",
    "print('CP MSE:', cp_mse_val)\n",
    "print('Traditional MSE:', vec_mse_val, '\\n')\n",
    "\n",
    "print('CP Cosine Distance:', cp_cos_dis)\n",
    "print('Traditional Cosine Distance:', vec_cos_dis, '\\n')\n",
    "\n",
    "print('CP Reconstruction Error:', cp_recon_err)\n",
    "print('Traditional Reconstruction Error:', vec_recon_err, '\\n')\n",
    "\n",
    "\n",
    "plt.imshow(true_pred, cmap='gray')\n",
    "plt.title('True Predictor')\n",
    "plt.show()\n",
    "\n",
    "plt.imshow(cp_svm_reconstructed, cmap='gray')\n",
    "plt.title('CP Solved Predictor')\n",
    "plt.show()\n",
    "\n",
    "plt.imshow(vec_svm_reconstructed, cmap='gray')\n",
    "plt.title('Traditional Solved Predictor')\n",
    "plt.show()"
   ]
  },
  {
   "cell_type": "markdown",
   "metadata": {},
   "source": [
    "## MNIST"
   ]
  },
  {
   "cell_type": "code",
   "execution_count": 29,
   "metadata": {},
   "outputs": [],
   "source": [
    "from scipy.io import loadmat"
   ]
  },
  {
   "cell_type": "code",
   "execution_count": 52,
   "metadata": {},
   "outputs": [],
   "source": [
    "def normalize(data):\n",
    "    mean = np.mean(data, axis=1, keepdims=True)\n",
    "    std = np.std(data, axis=1, keepdims=True)\n",
    "    data_normalized = (data - mean)/std\n",
    "    return data_normalized"
   ]
  },
  {
   "cell_type": "code",
   "execution_count": 36,
   "metadata": {},
   "outputs": [],
   "source": [
    "mnist = loadmat(\"./mnist-original.mat\")\n",
    "mnist_data = mnist[\"data\"].T\n",
    "mnist_label = mnist[\"label\"][0]\n",
    "\n",
    "# Используем только 750 цифр, повторяя за статьей\n",
    "# num_samples = 750\n",
    "\n",
    "# random_indices = np.random.choice(mnist_data.shape[0], num_samples, replace=False)\n",
    "\n",
    "# mnist_data = mnist_data[random_indices, :]\n",
    "# mnist_label = mnist_label[random_indices]"
   ]
  },
  {
   "cell_type": "code",
   "execution_count": 40,
   "metadata": {},
   "outputs": [
    {
     "data": {
      "text/plain": [
       "((70000, 784), (70000,))"
      ]
     },
     "execution_count": 40,
     "metadata": {},
     "output_type": "execute_result"
    }
   ],
   "source": [
    "mnist_data.shape, mnist_label.shape"
   ]
  },
  {
   "cell_type": "code",
   "execution_count": 37,
   "metadata": {},
   "outputs": [
    {
     "data": {
      "text/plain": [
       "((7877,), (62123,))"
      ]
     },
     "execution_count": 37,
     "metadata": {},
     "output_type": "execute_result"
    }
   ],
   "source": [
    "mnist_label[mnist_label == 1].shape, mnist_label[mnist_label != 1].shape"
   ]
  },
  {
   "cell_type": "code",
   "execution_count": 51,
   "metadata": {},
   "outputs": [],
   "source": [
    "idx_not1 = np.where(mnist_label != 1)[0]\n",
    "idx_1 = np.where(mnist_label == 1)[0]\n",
    "random_indices = np.random.choice(mnist_data[idx_not1].shape[0], mnist_data[idx_1].shape[0], replace=False)\n",
    "\n",
    "mnist_data = mnist_data[np.r_[random_indices, idx_1], :]\n",
    "mnist_label = mnist_label[np.r_[random_indices, idx_1]]"
   ]
  },
  {
   "cell_type": "code",
   "execution_count": 54,
   "metadata": {},
   "outputs": [
    {
     "name": "stdout",
     "output_type": "stream",
     "text": [
      "The shape of the training set feature matrix is: (12603, 784)\n",
      "The shape of the training label vector is: (12603, 1)\n",
      "The shape of the test set feature matrix is: (3151, 784)\n",
      "The shape of the test label vector is: (3151, 1)\n",
      "The shape of the training set feature matrix is: (12603, 28, 28)\n",
      "The shape of the training label vector is: (12603,)\n",
      "The shape of the test set feature matrix is: (3151, 28, 28)\n",
      "The shape of the test label vector is: (3151,)\n"
     ]
    }
   ],
   "source": [
    "# Предобработка данных\n",
    "#Нормализуем данные\n",
    "mnist_data_normalized = normalize(mnist_data)\n",
    "#Приводим к тензорному виду 28 * 28\n",
    "mnist_data_tensor_normalized = mnist_data_normalized.reshape(mnist_data.shape[0], 28,28) \n",
    "\n",
    "X_train, X_test, Y_train, Y_test = train_test_split(mnist_data_normalized, mnist_label, test_size=0.20, random_state=42)\n",
    "Y_train = Y_train.reshape(Y_train.shape[0],1)\n",
    "Y_test = Y_test.reshape(Y_test.shape[0],1)\n",
    "\n",
    "print(\"The shape of the training set feature matrix is:\", X_train.shape)\n",
    "print(\"The shape of the training label vector is:\", Y_train.shape)\n",
    "print(\"The shape of the test set feature matrix is:\", X_test.shape)\n",
    "print(\"The shape of the test label vector is:\", Y_test.shape)\n",
    "\n",
    "Y_train_1=(Y_train==1).astype(int)\n",
    "Y_test_1=(Y_test==1).astype(int)\n",
    "\n",
    "Xt_train, Xt_test, Yt_train, Yt_test = train_test_split(mnist_data_tensor_normalized, mnist_label, test_size=0.20, random_state=42)\n",
    "\n",
    "print(\"The shape of the training set feature matrix is:\", Xt_train.shape)\n",
    "print(\"The shape of the training label vector is:\", Yt_train.shape)\n",
    "print(\"The shape of the test set feature matrix is:\", Xt_test.shape)\n",
    "print(\"The shape of the test label vector is:\", Yt_test.shape)\n",
    "\n",
    "Yt_train.reshape(Yt_train.shape[0],1)\n",
    "Yt_train=(Yt_train==1).astype(int)\n",
    "Yt_train_1=Yt_train * 2 - 1 #Делаем метки для 1 и не единицы равными 1 и -1\n",
    "\n",
    "# Creating new testing label vectors for each digit for the one-vs-all methode\n",
    "Yt_test.reshape(Yt_test.shape[0],1)\n",
    "Yt_test=(Yt_test==1).astype(int)\n",
    "Yt_test_1=Yt_test * 2 -1"
   ]
  },
  {
   "cell_type": "code",
   "execution_count": 60,
   "metadata": {},
   "outputs": [
    {
     "name": "stdout",
     "output_type": "stream",
     "text": [
      "Current Iteration: 1\n",
      "Current Difference in Error Value: 0.8634118314356274\n",
      "\n",
      "Current Iteration: 2\n",
      "Current Difference in Error Value: 0.42223021472604744\n",
      "\n",
      "Current Iteration: 3\n",
      "Current Difference in Error Value: 0.08216903695750494\n",
      "\n",
      "Current Iteration: 4\n",
      "Current Difference in Error Value: 0.05971469075101843\n",
      "\n",
      "Current Iteration: 5\n",
      "Current Difference in Error Value: 0.026802482216580215\n",
      "\n",
      "Current Iteration: 6\n",
      "Current Difference in Error Value: 0.006802178122770175\n",
      "\n",
      "Current Iteration: 7\n",
      "Current Difference in Error Value: 0.001121702062866381\n",
      "\n",
      "Current Iteration: 8\n",
      "Current Difference in Error Value: 0.0005286300430085156\n",
      "\n",
      "Current Iteration: 9\n",
      "Current Difference in Error Value: 0.0002607366402140876\n",
      "\n",
      "Current Iteration: 10\n",
      "Current Difference in Error Value: 0.00024399251364842778\n",
      "\n",
      "Current Iteration: 11\n",
      "Current Difference in Error Value: 0.0\n",
      "\n",
      "time consumed CP-SVM 186.59584212303162 s\n",
      "CP svm params =  112\n",
      "time infer CP-SVM 0.0 s\n",
      "CP-SVM acc 0.9584258965407807\n"
     ]
    },
    {
     "name": "stderr",
     "output_type": "stream",
     "text": [
      "d:\\Python\\lib\\site-packages\\numpy\\core\\fromnumeric.py:86: VisibleDeprecationWarning: Creating an ndarray from ragged nested sequences (which is a list-or-tuple of lists-or-tuples-or ndarrays with different lengths or shapes) is deprecated. If you meant to do this, you must specify 'dtype=object' when creating the ndarray.\n",
      "  return ufunc.reduce(obj, axis, dtype, out, **passkwargs)\n"
     ]
    }
   ],
   "source": [
    "CP_rank = 2\n",
    "\n",
    "# training CP SVM model\n",
    "CP_SVM = CP_LinearSVM(CP_rank=CP_rank) # instantiating class\n",
    "start = time.time()\n",
    "svm_dict = CP_SVM.fit(Xt_train[:], Yt_train_1[:]) # fitting data (X, y)\n",
    "cp_svm_reconstructed = CP_SVM.reconstructTensor(solved_dict=svm_dict, tensor_n_dim=2) # reconstruct tensor\n",
    "print(f\"time consumed CP-SVM {time.time() - start} s\")\n",
    "\n",
    "params = 0\n",
    "for i in svm_dict:\n",
    "    params += svm_dict[i].size\n",
    "print('CP svm params = ', params)\n",
    "\n",
    "\n",
    "start = time.time()\n",
    "y_pred = np.inner(cp_svm_reconstructed.reshape(-1), np.reshape(Xt_test, (Xt_test.shape[0], Xt_test.shape[1]*Xt_test.shape[2])))\n",
    "y_pred_sign = np.sign(y_pred)\n",
    "\n",
    "print(f\"time infer CP-SVM {time.time() - start} s\")\n",
    "print('CP-SVM acc', accuracy_score(Yt_test_1.reshape(-1), y_pred_sign))"
   ]
  },
  {
   "cell_type": "code",
   "execution_count": 63,
   "metadata": {},
   "outputs": [
    {
     "name": "stdout",
     "output_type": "stream",
     "text": [
      "Current Iteration: 1\n",
      "Current Difference in Error Value: 0.5329696914522862\n",
      "\n",
      "Current Iteration: 2\n",
      "Current Difference in Error Value: 0.21563722576709643\n",
      "\n",
      "Current Iteration: 3\n",
      "Current Difference in Error Value: 0.039827396200841636\n",
      "\n",
      "Current Iteration: 4\n",
      "Current Difference in Error Value: 0.012460240240187659\n",
      "\n",
      "Current Iteration: 5\n",
      "Current Difference in Error Value: 0.003213373677920295\n",
      "\n",
      "Current Iteration: 6\n",
      "Current Difference in Error Value: 0.0002492750814054312\n",
      "\n",
      "Current Iteration: 7\n",
      "Current Difference in Error Value: 0.003999622475955755\n",
      "\n",
      "Current Iteration: 8\n",
      "Current Difference in Error Value: 0.00026390496175704437\n",
      "\n",
      "Current Iteration: 9\n",
      "Current Difference in Error Value: 0.00011208277687191348\n",
      "\n",
      "Current Iteration: 10\n",
      "Current Difference in Error Value: 0.00024525452327645025\n",
      "\n",
      "Current Iteration: 11\n",
      "Current Difference in Error Value: 6.745220258175255e-06\n",
      "\n",
      "Current Iteration: 12\n",
      "Current Difference in Error Value: 3.843942806724954e-06\n",
      "\n",
      "Current Iteration: 13\n",
      "Current Difference in Error Value: 3.5508658910998747e-06\n",
      "\n",
      "Current Iteration: 14\n",
      "Current Difference in Error Value: 2.6855350167553915e-06\n",
      "\n",
      "Current Iteration: 15\n",
      "Current Difference in Error Value: 0.0\n",
      "\n",
      "time consumed CP-SVM 321.57797622680664 s\n",
      "CP svm params =  168\n",
      "time infer CP-SVM 0.0 s\n",
      "CP-SVM acc 0.9060615677562679\n"
     ]
    },
    {
     "name": "stderr",
     "output_type": "stream",
     "text": [
      "d:\\Python\\lib\\site-packages\\numpy\\core\\fromnumeric.py:86: VisibleDeprecationWarning: Creating an ndarray from ragged nested sequences (which is a list-or-tuple of lists-or-tuples-or ndarrays with different lengths or shapes) is deprecated. If you meant to do this, you must specify 'dtype=object' when creating the ndarray.\n",
      "  return ufunc.reduce(obj, axis, dtype, out, **passkwargs)\n"
     ]
    }
   ],
   "source": [
    "CP_rank = 3\n",
    "\n",
    "# training CP SVM model\n",
    "CP_SVM = CP_LinearSVM(CP_rank=CP_rank) # instantiating class\n",
    "start = time.time()\n",
    "svm_dict = CP_SVM.fit(Xt_train[:], Yt_train_1[:]) # fitting data (X, y)\n",
    "cp_svm_reconstructed = CP_SVM.reconstructTensor(solved_dict=svm_dict, tensor_n_dim=2) # reconstruct tensor\n",
    "print(f\"time consumed CP-SVM {time.time() - start} s\")\n",
    "\n",
    "params = 0\n",
    "for i in svm_dict:\n",
    "    params += svm_dict[i].size\n",
    "print('CP svm params = ', params)\n",
    "\n",
    "\n",
    "start = time.time()\n",
    "y_pred = np.inner(cp_svm_reconstructed.reshape(-1), np.reshape(Xt_test, (Xt_test.shape[0], Xt_test.shape[1]*Xt_test.shape[2])))\n",
    "y_pred_sign = np.sign(y_pred)\n",
    "\n",
    "print(f\"time infer CP-SVM {time.time() - start} s\")\n",
    "print('CP-SVM acc', accuracy_score(Yt_test_1.reshape(-1), y_pred_sign))"
   ]
  },
  {
   "cell_type": "code",
   "execution_count": 62,
   "metadata": {},
   "outputs": [
    {
     "name": "stdout",
     "output_type": "stream",
     "text": [
      "time consumed SVM 104.97408032417297 s\n",
      "SVM acc 0.9822278641701048\n",
      "time infer SVM 0.0 s\n",
      "Traditional svm params =  (784,)\n"
     ]
    }
   ],
   "source": [
    "vec_X = np.reshape(Xt_train, (Xt_train.shape[0], -1)) # vectorizing data\n",
    "start = time.time()\n",
    "vec_svm_params = svmfit(vec_X, Yt_train_1)\n",
    "print(f\"time consumed SVM {time.time() - start} s\")\n",
    "vec_svm_reconstructed = np.reshape(vec_svm_params, (cp_svm_reconstructed.shape))\n",
    "\n",
    "start = time.time()\n",
    "y_pred2 = np.sign(np.inner(vec_svm_params, np.reshape(Xt_test, (Xt_test.shape[0], Xt_test.shape[1]*Xt_test.shape[2]))))\n",
    "print('SVM acc', accuracy_score(Yt_test_1.reshape(-1), y_pred2))\n",
    "print(f\"time infer SVM {time.time() - start} s\")\n",
    "\n",
    "\n",
    "\n",
    "print('Traditional svm params = ', vec_svm_params.shape)"
   ]
  },
  {
   "cell_type": "code",
   "execution_count": 61,
   "metadata": {},
   "outputs": [
    {
     "name": "stdout",
     "output_type": "stream",
     "text": [
      "time consumed SVM 88.37055253982544 s\n",
      "time infer SVM 0.0009982585906982422 s\n",
      "SVM acc 0.5725166613773405\n",
      "Traditional svm params =  (784,)\n"
     ]
    }
   ],
   "source": [
    "# model_1 = LogRegModel(X_train[:], X_test[:], Y_train_1[:], Y_test_1[:], alpha=0.01, max_iter=1000)\n",
    "\n",
    "\n",
    "# vec_X = np.reshape(X, (sample_size, -1)) # vectorizing data\n",
    "start = time.time()\n",
    "vec_svm_params = svmfit(X_train, Y_train_1)\n",
    "print(f\"time consumed SVM {time.time() - start} s\")\n",
    "vec_svm_reconstructed = np.reshape(vec_svm_params, (cp_svm_reconstructed.shape))\n",
    "\n",
    "\n",
    "start = time.time()\n",
    "y_pred2 = np.sign(np.inner(vec_svm_params, X_test))\n",
    "\n",
    "print(f\"time infer SVM {time.time() - start} s\")\n",
    "print('SVM acc', accuracy_score(Y_test_1, y_pred2))\n",
    "\n",
    "print('Traditional svm params = ', vec_svm_params.shape)"
   ]
  },
  {
   "cell_type": "markdown",
   "metadata": {},
   "source": [
    "## 3D MNIST"
   ]
  },
  {
   "cell_type": "code",
   "execution_count": 83,
   "metadata": {},
   "outputs": [],
   "source": [
    "import h5py\n",
    "hf_train = h5py.File(\"./train_point_clouds.h5\", \"r\")  \n",
    "hf_test = h5py.File(\"./test_point_clouds.h5\", \"r\")  "
   ]
  },
  {
   "cell_type": "code",
   "execution_count": 84,
   "metadata": {},
   "outputs": [],
   "source": [
    "def cube (dots):\n",
    "    cub = np.zeros((16,16,16))\n",
    "    ndots = dots.shape[0]\n",
    "    for dot in dots:\n",
    "        if dot[0] > 0.5:\n",
    "            dot[0] = 0.5\n",
    "        elif dot[0] < -0.5:\n",
    "            dot[0] = -0.5\n",
    "        if dot[1] > 0.5:\n",
    "            dot[1] = 0.5\n",
    "        elif dot[1] < -0.5:\n",
    "            dot[1] = -0.5\n",
    "        if dot[2] > 0.5:\n",
    "            dot[2] = 0.5\n",
    "        elif dot[2] < -0.5:\n",
    "            dot[2] = -0.5\n",
    "        dot[0] += 0.5\n",
    "        dot[1] += 0.5\n",
    "        dot[2] += 0.5\n",
    "        n1 = round(dot[0]/0.0625)\n",
    "        n2 = round(dot[1]/0.0625)\n",
    "        n3 = round(dot[2]/0.0625)\n",
    "        if n1 == 16:\n",
    "            n1 = 15\n",
    "        if n2 == 16:\n",
    "            n2 = 15\n",
    "        if n3 == 16:\n",
    "            n3 = 15\n",
    "        cub[n1][n2][n3] += 1/ndots\n",
    "        #if cub[n1][n2][n3] != 0:\n",
    "        #    print(cub[n1][n2][n3])\n",
    "    return cub"
   ]
  },
  {
   "cell_type": "code",
   "execution_count": 85,
   "metadata": {},
   "outputs": [],
   "source": [
    "hf_train_ones = []\n",
    "for i in range(1000):\n",
    "    if hf_train[str(i)].attrs['label'] == 1:\n",
    "        hf_train_ones.append(i)\n",
    "\n",
    "hf_test_ones = []\n",
    "for i in range(1000):\n",
    "    if hf_test[str(i)].attrs['label'] == 1:\n",
    "        hf_test_ones.append(i)"
   ]
  },
  {
   "cell_type": "code",
   "execution_count": 86,
   "metadata": {},
   "outputs": [],
   "source": [
    "X_3d_train = []\n",
    "y_3d_train = []\n",
    "X_d_train = []\n",
    "\n",
    "dots = 500\n",
    "\n",
    "for i in range(1000):\n",
    "    #inds = np.sort(np.random.choice(hf_train[str(i)]['points'].shape[0], dots, replace=False))\n",
    "    cub = cube(hf_train[str(i)]['points'][:, : ])\n",
    "    #hf_train[str(i)]['points'][inds, : ]\n",
    "    X_3d_train.append(cub)\n",
    "    X_d_train.append(cub.reshape(-1))\n",
    "    y_3d_train.append(hf_train[str(i)].attrs['label'])"
   ]
  },
  {
   "cell_type": "code",
   "execution_count": 87,
   "metadata": {},
   "outputs": [],
   "source": [
    "X_3d_test = []\n",
    "y_3d_test = []\n",
    "X_d_test = []\n",
    "\n",
    "for i in range(100):\n",
    "    #inds = np.sort(np.random.choice(hf_test[str(i)]['points'].shape[0], dots, replace=False))\n",
    "    cub = cube(hf_test[str(i)]['points'][:, : ])\n",
    "    X_3d_test.append(cub)\n",
    "    #X_d_test.append(np.array(hf_test[str(i)]['points'][inds,  : ]).reshape(-1))\n",
    "    X_d_test.append(cub.reshape(-1))\n",
    "    y_3d_test.append(hf_test[str(i)].attrs['label'])"
   ]
  },
  {
   "cell_type": "code",
   "execution_count": 88,
   "metadata": {},
   "outputs": [],
   "source": [
    "y_3d_train= np.array(y_3d_train)\n",
    "y_3d_train_1 = (y_3d_train==1).astype(int)*2-1\n",
    "X_3d_train = np.array(X_3d_train)\n",
    "X_d_train = np.array(X_d_train)\n",
    "\n",
    "y_3d_test= np.array(y_3d_test)\n",
    "y_3d_test_1 = (y_3d_test==1).astype(int)*2-1\n",
    "X_3d_test = np.array(X_3d_test)\n",
    "X_d_test = np.array(X_d_test)"
   ]
  },
  {
   "cell_type": "code",
   "execution_count": 89,
   "metadata": {},
   "outputs": [
    {
     "name": "stdout",
     "output_type": "stream",
     "text": [
      "Current Iteration: 1\n",
      "Current Difference in Error Value: 1.0000000000005234\n",
      "\n",
      "Current Iteration: 2\n",
      "Current Difference in Error Value: 1.1102230246251565e-15\n",
      "\n",
      "3D time consumed CP-SVM 8.588313102722168 s\n",
      "3D CP svm params =  144\n",
      "0.74\n",
      "time infer CP-SVM 0.0 s\n",
      "CP-SVM acc 0.74\n"
     ]
    },
    {
     "name": "stderr",
     "output_type": "stream",
     "text": [
      "d:\\Python\\lib\\site-packages\\numpy\\core\\fromnumeric.py:86: VisibleDeprecationWarning: Creating an ndarray from ragged nested sequences (which is a list-or-tuple of lists-or-tuples-or ndarrays with different lengths or shapes) is deprecated. If you meant to do this, you must specify 'dtype=object' when creating the ndarray.\n",
      "  return ufunc.reduce(obj, axis, dtype, out, **passkwargs)\n"
     ]
    }
   ],
   "source": [
    "CP_rank = 3\n",
    "\n",
    "# training CP SVM model\n",
    "CP_SVM = CP_LinearSVM(CP_rank=CP_rank)\n",
    "start = time.time()\n",
    "svm_dict = CP_SVM.fit(X_3d_train, y_3d_train_1)\n",
    "cp_svm_reconstructed = CP_SVM.reconstructTensor(solved_dict=svm_dict, tensor_n_dim=3) \n",
    "print(f\"3D time consumed CP-SVM {time.time() - start} s\")\n",
    "\n",
    "params = 0\n",
    "for i in svm_dict:\n",
    "    params += svm_dict[i].size\n",
    "print('3D CP svm params = ', params)\n",
    "\n",
    "\n",
    "start = time.time()\n",
    "y_pred = np.inner(cp_svm_reconstructed.reshape(-1), np.reshape(X_3d_test, (X_3d_test.shape[0], X_3d_test.shape[1]*X_3d_test.shape[2]*X_3d_test.shape[3])))\n",
    "y_pred_sign = np.sign(y_pred)\n",
    "\n",
    "predict = []\n",
    "for t in X_3d_test:\n",
    "    predict.append(np.sign(np.sum(t * cp_svm_reconstructed)))\n",
    "predict = np.array(predict)\n",
    "print(accuracy_score(y_3d_test_1, predict))\n",
    "\n",
    "print(f\"time infer CP-SVM {time.time() - start} s\")\n",
    "print('CP-SVM acc', accuracy_score(y_3d_test_1, y_pred_sign))"
   ]
  },
  {
   "cell_type": "code",
   "execution_count": 91,
   "metadata": {},
   "outputs": [
    {
     "name": "stdout",
     "output_type": "stream",
     "text": [
      "time consumed SVM 195.55845880508423 s\n",
      "SVM acc 0.86\n",
      "time infer SVM 0.0 s\n",
      "Traditional svm params =  (4096,)\n"
     ]
    }
   ],
   "source": [
    "vec_X = np.reshape(X_3d_train, (X_3d_train.shape[0], -1)) \n",
    "start = time.time()\n",
    "vec_svm_params = svmfit(vec_X, y_3d_train_1)\n",
    "print(f\"time consumed SVM {time.time() - start} s\")\n",
    "vec_svm_reconstructed = np.reshape(vec_svm_params, (cp_svm_reconstructed.shape))\n",
    "\n",
    "start = time.time()\n",
    "y_pred2 = np.sign(np.inner(vec_svm_params, np.reshape(X_3d_test, (X_3d_test.shape[0], X_3d_test.shape[1]*X_3d_test.shape[2]*X_3d_test.shape[3]))))\n",
    "print('SVM acc', accuracy_score(y_3d_test_1, y_pred2))\n",
    "print(f\"time infer SVM {time.time() - start} s\")\n",
    "\n",
    "\n",
    "\n",
    "print('Traditional svm params = ', vec_svm_params.shape)"
   ]
  },
  {
   "cell_type": "code",
   "execution_count": null,
   "metadata": {},
   "outputs": [],
   "source": [
    "CP_ = CP_LogisticRegression(CP_rank=3) \n",
    "start = time.time()\n",
    "log_dict = CP_.fit(X_3d_train, y_3d_train_1, max_iterations=50, C = 0.0005)\n",
    "end = time.time()\n",
    "\n",
    "cp_reconstructed = CP_.reconstructTensor(solved_dict=log_dict, tensor_n_dim=3) \n",
    "\n",
    "print(f\"time consumed {end - start} s\")\n",
    "predict = []\n",
    "for t in X_3d_test:\n",
    "    predict.append(expit(np.sum(t * cp_reconstructed)))\n",
    "predict = np.array(predict)"
   ]
  }
 ],
 "metadata": {
  "kernelspec": {
   "display_name": "Python 3",
   "language": "python",
   "name": "python3"
  },
  "language_info": {
   "codemirror_mode": {
    "name": "ipython",
    "version": 3
   },
   "file_extension": ".py",
   "mimetype": "text/x-python",
   "name": "python",
   "nbconvert_exporter": "python",
   "pygments_lexer": "ipython3",
   "version": "3.9.2"
  }
 },
 "nbformat": 4,
 "nbformat_minor": 2
}
